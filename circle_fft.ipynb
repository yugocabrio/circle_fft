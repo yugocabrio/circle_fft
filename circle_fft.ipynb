{
 "cells": [
  {
   "cell_type": "markdown",
   "metadata": {},
   "source": [
    "# Finite field element class"
   ]
  },
  {
   "cell_type": "code",
   "execution_count": 1,
   "metadata": {},
   "outputs": [],
   "source": [
    "MOD = 31\n",
    "\n",
    "class FieldElement:\n",
    "    def __init__(self, value):\n",
    "        \"\"\"Initialize a field element\"\"\"\n",
    "        self.value = value % MOD\n",
    "\n",
    "    def __add__(self, other):\n",
    "        \"\"\"Add two field elements.\"\"\"\n",
    "        return FieldElement((self.value + other.value) % MOD)\n",
    "\n",
    "    def __sub__(self, other):\n",
    "        \"\"\"Subtract two field elements.\"\"\"\n",
    "        return FieldElement((self.value - other.value) % MOD)\n",
    "\n",
    "    def __mul__(self, other):\n",
    "        \"\"\"Multiply two field elements.\"\"\"\n",
    "        return FieldElement((self.value * other.value) % MOD)\n",
    "\n",
    "    def __truediv__(self, other):\n",
    "        \"\"\"Divide two field elements (self * other^-1).\"\"\"\n",
    "        return self * other.inv()\n",
    "\n",
    "    def __neg__(self):\n",
    "        \"\"\"Negate a field element.\"\"\"\n",
    "        return FieldElement(-self.value % MOD)\n",
    "\n",
    "    def __repr__(self):\n",
    "        \"\"\"String representation of the field element.\"\"\"\n",
    "        return f\"{self.value}\"\n",
    "\n",
    "    def __eq__(self, other):\n",
    "        \"\"\"Check equality of two field elements.\"\"\"\n",
    "        return self.value == other.value\n",
    "\n",
    "\n",
    "    def __pow__(self, exponent):\n",
    "        \"\"\"Compute exponentiation\"\"\"\n",
    "        if exponent < 0:\n",
    "            raise ValueError(\"Negative exponents are not supported\")\n",
    "        result = FieldElement(1)\n",
    "        base = self\n",
    "        while exponent > 0:\n",
    "            if exponent % 2 == 1:\n",
    "                result *= base\n",
    "            base = base.square()\n",
    "            exponent //= 2\n",
    "        return result\n",
    "\n",
    "    def inv(self):\n",
    "        \"\"\"Compute the multiplicative inverse using Fermat's little theorem.\"\"\"\n",
    "        if self.value == 0:\n",
    "            raise ZeroDivisionError(\"Cannot invert zero\")\n",
    "        return FieldElement(pow(self.value, MOD - 2, MOD))\n",
    "\n",
    "    def square(self):\n",
    "        \"\"\"Compute the square of the field element.\"\"\"\n",
    "        return self * self\n",
    "\n",
    "    def double(self):\n",
    "        \"\"\"Double the field element.\"\"\"\n",
    "        return self + self\n",
    "\n",
    "    @classmethod\n",
    "    def one(cls):\n",
    "        \"\"\"Return the multiplicative identity (1).\"\"\"\n",
    "        return cls(1)\n",
    "\n",
    "    @classmethod\n",
    "    def zero(cls):\n",
    "        \"\"\"Return the additive identity (0).\"\"\"\n",
    "        return cls(0)"
   ]
  },
  {
   "cell_type": "code",
   "execution_count": 2,
   "metadata": {},
   "outputs": [
    {
     "name": "stdout",
     "output_type": "stream",
     "text": [
      "a + b: 15\n",
      "a - b: 26\n",
      "a * b: 19\n",
      "a / b: 16\n",
      "a * a.inv(): 1\n",
      "a ** 2: 25\n",
      "a.double(): 10\n"
     ]
    }
   ],
   "source": [
    "a = FieldElement(5)\n",
    "b = FieldElement(10)\n",
    "\n",
    "print(f\"a + b: {a + b}\")  # 15\n",
    "print(f\"a - b: {a - b}\")  # 26 (5 - 10 ≡ 26 mod 31)\n",
    "print(f\"a * b: {a * b}\")  # 19 (50 ≡ 19 mod 31)\n",
    "print(f\"a / b: {a / b}\")  # 16 (5 * 10^{-1} ≡ 16 mod 31)\n",
    "\n",
    "print(f\"a * a.inv(): {a * a.inv()}\")  # 1\n",
    "\n",
    "print(f\"a ** 2: {a ** 2}\")       # 25\n",
    "print(f\"a.double(): {a.double()}\")  # 10"
   ]
  },
  {
   "cell_type": "markdown",
   "metadata": {},
   "source": [
    "# Circle point class for group operations on the circle"
   ]
  },
  {
   "cell_type": "code",
   "execution_count": 3,
   "metadata": {},
   "outputs": [],
   "source": [
    "class CirclePoint:\n",
    "    \"\"\"A point (x, y) on the circle where x^2 + y^2 = 1, Circle Curve\"\"\"\n",
    "    def __init__(self, x, y):\n",
    "        \"\"\"Initialize a point with coordinates x and y, ensuring it lies on the circle.\"\"\"\n",
    "        if (x.square() + y.square()).value != 1:\n",
    "            raise ValueError(\"Point does not lie on the circle: x^2 + y^2 ≠ 1\")\n",
    "        self.x = x\n",
    "        self.y = y\n",
    "\n",
    "    def __repr__(self):\n",
    "        \"\"\"String representation of the circle point.\"\"\"\n",
    "        return f\"Point({self.x}, {self.y})\"\n",
    "\n",
    "    @classmethod\n",
    "    def identity(cls):\n",
    "        \"\"\"Return the identity element (1, 0) of the circle group.\"\"\"\n",
    "        return cls(FieldElement.one(), FieldElement.zero())\n",
    "\n",
    "    def add(self, other):\n",
    "        \"\"\"Perform group operation: (x1,y1)・(x2,y2) = (x1*x2 - y1*y2, x1*y2 + x2*y1).\"\"\"\n",
    "        nx = self.x * other.x - self.y * other.y\n",
    "        ny = self.x * other.y + other.x * self.y\n",
    "        return CirclePoint(nx, ny)\n",
    "\n",
    "    def double(self):\n",
    "        \"\"\"Apply squaring map: π(x,y) = (2*x^2 - 1, 2*x*y), since x^2 + y^2 = 1.\"\"\"\n",
    "        xx = self.x.square().double() - FieldElement.one()\n",
    "        yy = self.x.double() * self.y\n",
    "        return CirclePoint(xx, yy)\n",
    "\n",
    "    def power(self, n):\n",
    "        \"\"\"Compute the nth power of the point.\"\"\"\n",
    "        if n < 0:\n",
    "            raise ValueError(\"Negative exponents are not supported\")\n",
    "        out = CirclePoint.identity()\n",
    "        base = CirclePoint(self.x, self.y)\n",
    "        tmp = n\n",
    "        while tmp > 0:\n",
    "            if tmp & 1:\n",
    "                out = out.add(base)\n",
    "            base = base.double()\n",
    "            tmp //= 2\n",
    "        return out\n",
    "\n",
    "    def inverse(self):\n",
    "        \"\"\"Return the inverse element (x, -y).\"\"\"\n",
    "        return CirclePoint(self.x, -self.y)\n",
    "\n",
    "    def __eq__(self, other):\n",
    "        \"\"\"Check equality of two circle points.\"\"\"\n",
    "        if not isinstance(other, CirclePoint):\n",
    "            return False\n",
    "        return self.x == other.x and self.y == other.y\n",
    "\n",
    "    def __hash__(self):\n",
    "        \"\"\"Hash function for use in sets.\"\"\"\n",
    "        return hash((self.x.value, self.y.value))\n",
    "\n",
    "def find_generator():\n",
    "    \"\"\"Find a generator for the circle group where x^2 + y^2 = 1).\"\"\"\n",
    "    for xx in range(1, MOD):\n",
    "        for yy in range(1, MOD):\n",
    "            if (xx * xx + yy * yy) % MOD == 1:\n",
    "                return CirclePoint(FieldElement(xx), FieldElement(yy))\n",
    "    return CirclePoint.identity()\n",
    "\n",
    "def get_nth_generator(logn):\n",
    "    \"\"\"Get the generator for subgroup of size 2^logn.\"\"\"\n",
    "    if (MOD + 1) % (1 << logn) != 0:\n",
    "        raise ValueError(f\"Cannot generate subgroup of size 2^{logn}\")\n",
    "    step = (MOD + 1) // (1 << logn)\n",
    "    g = find_generator()\n",
    "    return g.power(step)"
   ]
  },
  {
   "cell_type": "code",
   "execution_count": 4,
   "metadata": {},
   "outputs": [
    {
     "name": "stdout",
     "output_type": "stream",
     "text": [
      "Identity: Point(1, 0)\n",
      "p1・p2 = Point(18, 24)\n",
      "π(p1) = Point(27, 27)\n",
      "p1's inverse = Point(13, 24)\n",
      "p1・p1_inv = Point(1, 0)\n",
      "p1^31 = Point(13, 24)\n",
      "p1^31 = p1^-1 : True\n",
      "p1^32 = Point(1, 0)\n"
     ]
    }
   ],
   "source": [
    "p1 = CirclePoint(FieldElement(13), FieldElement(7))\n",
    "p2 = CirclePoint(FieldElement(30), FieldElement(0))\n",
    "\n",
    "# Identity\n",
    "identity = CirclePoint.identity()\n",
    "print(f\"Identity: {identity}\")\n",
    "\n",
    "# group operation\n",
    "p3 = p1.add(p2)\n",
    "print(f\"p1・p2 = {p3}\")\n",
    "\n",
    "# squaring map\n",
    "p1_double = p1.double()\n",
    "print(f\"π(p1) = {p1_double}\")\n",
    "\n",
    "# Inverse\n",
    "p1_inv = p1.inverse()\n",
    "print(f\"p1's inverse = {p1_inv}\")\n",
    "p1_plus_inv = p1.add(p1_inv)\n",
    "print(f\"p1・p1_inv = {p1_plus_inv}\")\n",
    "\n",
    "# power\n",
    "p1_power_31 = p1.power(31)\n",
    "p1_power_32 = p1.power(32)\n",
    "print(f\"p1^{31} = {p1_power_31}\")\n",
    "print(f\"p1^{31} = p1^{-1} : {p1_power_31 == p1.inverse()}\")\n",
    "print(f\"p1^{32} = {p1_power_32}\")"
   ]
  },
  {
   "cell_type": "markdown",
   "metadata": {},
   "source": [
    "# Generate subgroup of size 2^logn\n"
   ]
  },
  {
   "cell_type": "code",
   "execution_count": 5,
   "metadata": {},
   "outputs": [
    {
     "name": "stdout",
     "output_type": "stream",
     "text": [
      "Subgroups of C(F_p):\n",
      "Size 1:  [Point(1, 0)]\n",
      "Size 2:  [Point(1, 0), Point(30, 0)]\n",
      "Size 4:  [Point(1, 0), Point(0, 30), Point(30, 0), Point(0, 1)]\n",
      "Size 8:  [Point(1, 0), Point(4, 27), Point(0, 30), Point(27, 27), Point(30, 0), Point(27, 4), Point(0, 1), Point(4, 4)]\n",
      "Size 16:  [Point(1, 0), Point(7, 13), Point(4, 27), Point(18, 24), Point(0, 30), Point(13, 24), Point(27, 27), Point(24, 13), Point(30, 0), Point(24, 18), Point(27, 4), Point(13, 7), Point(0, 1), Point(18, 7), Point(4, 4), Point(7, 18)]\n",
      "Size 32:  [Point(1, 0), Point(2, 11), Point(7, 13), Point(26, 10), Point(4, 27), Point(21, 5), Point(18, 24), Point(20, 29), Point(0, 30), Point(11, 29), Point(13, 24), Point(10, 5), Point(27, 27), Point(5, 10), Point(24, 13), Point(29, 11), Point(30, 0), Point(29, 20), Point(24, 18), Point(5, 21), Point(27, 4), Point(10, 26), Point(13, 7), Point(11, 2), Point(0, 1), Point(20, 2), Point(18, 7), Point(21, 26), Point(4, 4), Point(26, 21), Point(7, 18), Point(2, 20)]\n",
      "G3: size 8 subgroup\n",
      "Point(1, 0)\n",
      "Point(4, 27)\n",
      "Point(0, 30)\n",
      "Point(27, 27)\n",
      "Point(30, 0)\n",
      "Point(27, 4)\n",
      "Point(0, 1)\n",
      "Point(4, 4)\n"
     ]
    }
   ],
   "source": [
    "def generate_subgroup(logn):\n",
    "    \"\"\"Generate a subgroup of size 2^logn using the generator.\"\"\"\n",
    "    G_n = get_nth_generator(logn)\n",
    "    subgroup = []\n",
    "    current = CirclePoint.identity()\n",
    "    for _ in range(1 << logn):\n",
    "        subgroup.append(current)\n",
    "        current = current.add(G_n)\n",
    "    return subgroup\n",
    "\n",
    "def print_all_subgroups():\n",
    "    \"\"\"Print all subgroups up to size 2^5.\"\"\"\n",
    "    print(\"Subgroups of C(F_p):\")\n",
    "    for logn in range(0, 6):\n",
    "        subgroup = generate_subgroup(logn)\n",
    "        print(f\"Size {1 << logn}: \", subgroup)\n",
    "\n",
    "print_all_subgroups()\n",
    "\n",
    "\n",
    "G3 = generate_subgroup(3)\n",
    "print(\"G3: size 8 subgroup\")\n",
    "for pt in G3:\n",
    "    print(pt)"
   ]
  },
  {
   "cell_type": "markdown",
   "metadata": {},
   "source": [
    "# Generate twin coset"
   ]
  },
  {
   "cell_type": "code",
   "execution_count": 6,
   "metadata": {},
   "outputs": [
    {
     "name": "stdout",
     "output_type": "stream",
     "text": [
      "[Point(13, 7), Point(7, 18), Point(18, 24), Point(24, 13), Point(13, 24), Point(24, 18), Point(18, 7), Point(7, 13)]\n"
     ]
    }
   ],
   "source": [
    "def generate_twin_coset(Q, G_n_minus_1):\n",
    "    \"\"\"Generate twin coset: D = Q・G_(n-1) ∪ Q^{-1}・G_(n-1).\"\"\"\n",
    "    Q_inv = Q.inverse()\n",
    "    coset_Q = [Q.add(g) for g in G_n_minus_1]\n",
    "    coset_Q_inv = [Q_inv.add(g) for g in G_n_minus_1]\n",
    "    return coset_Q + coset_Q_inv\n",
    "\n",
    "G2 = generate_subgroup(2)\n",
    "Q = CirclePoint(FieldElement(13), FieldElement(7))\n",
    "twin_cosets = generate_twin_coset(Q, G2)\n",
    "print(twin_cosets)\n"
   ]
  },
  {
   "cell_type": "markdown",
   "metadata": {},
   "source": [
    "# Generate standard position coset D = Q・G_n"
   ]
  },
  {
   "cell_type": "code",
   "execution_count": 7,
   "metadata": {},
   "outputs": [
    {
     "name": "stdout",
     "output_type": "stream",
     "text": [
      "Standard Position Coset D (size 8):\n",
      "Point(13, 7)\n",
      "Point(18, 7)\n",
      "Point(7, 18)\n",
      "Point(7, 13)\n",
      "Point(18, 24)\n",
      "Point(13, 24)\n",
      "Point(24, 13)\n",
      "Point(24, 18)\n"
     ]
    }
   ],
   "source": [
    "def generate_standard_position_coset(Q, G_n):\n",
    "    \"\"\"Generate standard position coset D = Q・G_n.\"\"\"\n",
    "    return [Q.add(g) for g in G_n]\n",
    "\n",
    "G3 = generate_subgroup(3)\n",
    "Q = CirclePoint(FieldElement(13), FieldElement(7))\n",
    "D = generate_standard_position_coset(Q, G3)\n",
    "print(\"Standard Position Coset D (size 8):\")\n",
    "for pt in D:\n",
    "    print(pt)"
   ]
  },
  {
   "cell_type": "markdown",
   "metadata": {},
   "source": [
    "# Standard position cose and twin coset"
   ]
  },
  {
   "cell_type": "code",
   "execution_count": 8,
   "metadata": {},
   "outputs": [
    {
     "name": "stdout",
     "output_type": "stream",
     "text": [
      "Q・G3: [Point(13, 7), Point(18, 7), Point(7, 18), Point(7, 13), Point(18, 24), Point(13, 24), Point(24, 13), Point(24, 18)]\n",
      "(Q・G2) ∪ (Q^-1・G2): [Point(13, 7), Point(7, 18), Point(18, 24), Point(24, 13), Point(13, 24), Point(24, 18), Point(18, 7), Point(7, 13)]\n",
      "Equal: standard position coset Q·G3 = Q·G2 ∪ Q^-1·G2\n"
     ]
    }
   ],
   "source": [
    "D_std = generate_standard_position_coset(Q, G3)\n",
    "D_twin = generate_twin_coset(Q, G2)\n",
    "print(\"Q・G3:\", D_std)\n",
    "print(\"(Q・G2) ∪ (Q^-1・G2):\", D_twin)\n",
    "if set(D_std) == set(D_twin):\n",
    "    print(\"Equal: standard position coset Q·G3 = Q·G2 ∪ Q^-1·G2\")\n",
    "else:\n",
    "    print(\"Not Equal\")"
   ]
  },
  {
   "cell_type": "markdown",
   "metadata": {},
   "source": [
    "# Decompose standard position coset into twin cosets"
   ]
  },
  {
   "cell_type": "code",
   "execution_count": 9,
   "metadata": {},
   "outputs": [
    {
     "name": "stdout",
     "output_type": "stream",
     "text": [
      "Standard Positon Coset : [Point(13, 7), Point(18, 7), Point(7, 18), Point(7, 13), Point(18, 24), Point(13, 24), Point(24, 13), Point(24, 18)]\n",
      "Twin-Coset 0 (size 4):\n",
      "Point(13, 7)\n",
      "Point(18, 24)\n",
      "Point(13, 24)\n",
      "Point(18, 7)\n",
      "Twin-Coset 1 (size 4):\n",
      "Point(24, 13)\n",
      "Point(7, 18)\n",
      "Point(24, 18)\n",
      "Point(7, 13)\n"
     ]
    }
   ],
   "source": [
    "def decompose_to_twin_cosets(D, n, m):\n",
    "    \"\"\"Decompose standard position coset D (size 2^m) into twin cosets of size 2^n.\"\"\"\n",
    "    assert len(D) == 1 << m\n",
    "    G_n_minus_1 = generate_subgroup(n - 1)\n",
    "    twin_cosets = []\n",
    "    for k in range((1 << m) // (1 << n)):\n",
    "        Q_k = Q.power(4 * k + 1)\n",
    "        twin_coset_k = generate_twin_coset(Q_k, G_n_minus_1)\n",
    "        twin_cosets.append(twin_coset_k)\n",
    "    return twin_cosets\n",
    "\n",
    "print(\"Standard Positon Coset :\", D)\n",
    "twin_cosets = decompose_to_twin_cosets(D, 2, 3)\n",
    "for i, tc in enumerate(twin_cosets):\n",
    "    print(f\"Twin-Coset {i} (size 4):\")\n",
    "    for pt in tc:\n",
    "        print(pt)"
   ]
  },
  {
   "cell_type": "markdown",
   "metadata": {},
   "source": [
    "# Halve standard position coset using squaring map"
   ]
  },
  {
   "cell_type": "code",
   "execution_count": 10,
   "metadata": {},
   "outputs": [
    {
     "name": "stdout",
     "output_type": "stream",
     "text": [
      "Result of halving Standard Position Coset D by square mapping (size): 4\n",
      "Point(4, 4)\n",
      "Point(4, 27)\n",
      "Point(27, 4)\n",
      "Point(27, 27)\n"
     ]
    }
   ],
   "source": [
    "def halve_standard_position_coset_by_squaring_map(standard_coset):\n",
    "    \"\"\"Apply squaring map to reduce coset size from 2^n to 2^(n-1).\"\"\"\n",
    "    new_points = [pt.double() for pt in standard_coset]\n",
    "    unique_dict = {}\n",
    "    for pt in new_points:\n",
    "        key = (pt.x.value, pt.y.value)\n",
    "        unique_dict[key] = pt\n",
    "    unique = list(unique_dict.values())\n",
    "    unique.sort(key=lambda p: (p.x.value, p.y.value))\n",
    "    return unique\n",
    "\n",
    "D_halved = halve_standard_position_coset_by_squaring_map(D)\n",
    "print(\"Result of halving Standard Position Coset D by square mapping (size):\", len(D_halved))\n",
    "for pt in D_halved:\n",
    "    print(pt)\n"
   ]
  },
  {
   "cell_type": "markdown",
   "metadata": {},
   "source": [
    "# Circle FFT and IFFT"
   ]
  },
  {
   "cell_type": "code",
   "execution_count": 11,
   "metadata": {},
   "outputs": [
    {
     "name": "stdout",
     "output_type": "stream",
     "text": [
      "initial evaluations: [1, 2, 4, 8, 16, 1, 2, 4]\n",
      "FFT coefficients: [28, 16, 16, 27, 20, 12, 28, 27]\n",
      "IFFT reconstructed evaluations: [1, 2, 4, 8, 16, 1, 2, 4]\n",
      "Matches original: True\n"
     ]
    }
   ],
   "source": [
    "def circle_fft(evaluations, circle_domain):\n",
    "    \"\"\"Transform evaluations on circle domain to polynomial coefficients using Circle FFT.\"\"\"\n",
    "    if len(evaluations) != len(circle_domain) or len(evaluations) & (len(evaluations) - 1):\n",
    "        raise ValueError(\"evaluations and circle_domain must have equal power-of-2 length\")\n",
    "    arr = [FieldElement(e) for e in evaluations]\n",
    "    coefficients = _fft_quotient_map_y(arr, circle_domain)\n",
    "    return [c.value for c in coefficients]\n",
    "\n",
    "def _fft_quotient_map_y(values, circle_domain):\n",
    "    \"\"\"FFT layer using quotient map φ_y for y-component decomposition.\"\"\"\n",
    "    n = len(values)\n",
    "    if n == 1:\n",
    "        return [values[0]]\n",
    "    half = n // 2\n",
    "    # Split into left and right halves\n",
    "    left = values[:half]\n",
    "    right = list(reversed(values[half:]))\n",
    "    y_factors = [pt.y for pt in circle_domain[:half]]\n",
    "    two = FieldElement(2)\n",
    "    # Compute even and odd parts with respect to y\n",
    "    # Even part: f_0(x) = (f(x,y)+f(x,-y))/2\n",
    "    f_even_y = [(left[i] + right[i]) / two for i in range(half)]\n",
    "    # Odd part: f_1(x) = (f(x,y)-f(x,-y))/2*y\n",
    "    f_odd_y = [(left[i] - right[i]) / (y_factors[i] * two) for i in range(half)]\n",
    "    x_domain = [pt.x for pt in circle_domain]\n",
    "    half_x_domain = x_domain[:half]\n",
    "    # Recurse on x-component\n",
    "    coeffs_even = _fft_squaring_map_x(f_even_y, half_x_domain)\n",
    "    coeffs_odd = _fft_squaring_map_x(f_odd_y, half_x_domain)\n",
    "    return [coeff for pair in zip(coeffs_even, coeffs_odd) for coeff in pair]\n",
    "\n",
    "def _fft_squaring_map_x(values, x_domain):\n",
    "    \"\"\"FFT layer using squaring map π: x → (2*x^2 - 1) for x-component decomposition.\"\"\"\n",
    "    n = len(values)\n",
    "    if n == 1:\n",
    "        return [values[0]]\n",
    "    half = n // 2\n",
    "    # Split into left and right halves\n",
    "    left = values[:half]\n",
    "    right = list(reversed(values[half:]))\n",
    "    x_factors = x_domain[:half]\n",
    "    two = FieldElement(2)\n",
    "    # Compute even and odd parts with respect to x\n",
    "    # Even part: f_even(π(x)) = (f_0(x)+f_0(-x))/2\n",
    "    f_even_x = [(left[i] + right[i]) / two for i in range(half)]\n",
    "    # Odd part: f_odd(π(x)) = (f_0(x)-f_0(-x))/2*x\n",
    "    f_odd_x = [(left[i] - right[i]) / (x_factors[i] * two) for i in range(half)]\n",
    "    # Compute next x-domain using squaring map\n",
    "    # π(x) = 2x^2 - 1\n",
    "    next_x_domain = [(x.square().double() - FieldElement.one()) for x in x_domain[:half]]\n",
    "    # Recurse on the next domain\n",
    "    coeffs_even = _fft_squaring_map_x(f_even_x, next_x_domain)\n",
    "    coeffs_odd = _fft_squaring_map_x(f_odd_x, next_x_domain)\n",
    "    return [coeff for pair in zip(coeffs_even, coeffs_odd) for coeff in pair]\n",
    "\n",
    "def circle_ifft(coefficients, circle_domain):\n",
    "    \"\"\"Reconstruct evaluations from Circle FFT coefficients using Inverse Circle FFT.\"\"\"\n",
    "    if len(coefficients) != len(circle_domain) or len(coefficients) & (len(coefficients) - 1):\n",
    "        raise ValueError(\"coefficients and circle_domain must have equal power-of-2 length\")\n",
    "    arr = [FieldElement(c) for c in coefficients]\n",
    "    evaluations = _ifft_quotient_map_y(arr, circle_domain)\n",
    "    return [e.value for e in evaluations]\n",
    "\n",
    "def _ifft_quotient_map_y(coefficients, circle_domain):\n",
    "    \"\"\"IFFT layer using quotient map φ_y for y-component reconstruction.\"\"\"\n",
    "    n = len(coefficients)\n",
    "    if n == 1:\n",
    "        return [coefficients[0]]\n",
    "    half = n // 2\n",
    "    # Split coefficients into even and odd indices\n",
    "    coeffs_even = coefficients[::2]\n",
    "    coeffs_odd = coefficients[1::2]\n",
    "    x_domain = [pt.x for pt in circle_domain]\n",
    "    y_factors = [pt.y for pt in circle_domain]\n",
    "    half_x_domain = x_domain[:half]\n",
    "    # Recurse on x-component\n",
    "    f_even_y = _ifft_squaring_map_x(coeffs_even, half_x_domain)\n",
    "    f_odd_y = _ifft_squaring_map_x(coeffs_odd, half_x_domain)\n",
    "    # Reconstruct left and right halves\n",
    "    evaluations_left = [f_even_y[i] + (y_factors[i] * f_odd_y[i]) for i in range(half)]\n",
    "    evaluations_right = [f_even_y[i] - (y_factors[i] * f_odd_y[i]) for i in range(half)]\n",
    "    evaluations_right.reverse()\n",
    "    return evaluations_left + evaluations_right\n",
    "\n",
    "def _ifft_squaring_map_x(coefficients, x_domain):\n",
    "    \"\"\"IFFT layer using squaring map π for x-component reconstruction.\"\"\"\n",
    "    n = len(coefficients)\n",
    "    if n == 1:\n",
    "        return [coefficients[0]]\n",
    "    half = n // 2\n",
    "    # Split coefficients into even and odd indices\n",
    "    coeffs_even = coefficients[::2]\n",
    "    coeffs_odd = coefficients[1::2]\n",
    "    x_factors = x_domain[:half]\n",
    "    # Compute next x-domain using squaring map\n",
    "    next_x_domain = [(x.square().double() - FieldElement.one()) for x in x_domain[:half]]\n",
    "    # Recurse on the next domain\n",
    "    f_even_x = _ifft_squaring_map_x(coeffs_even, next_x_domain)\n",
    "    f_odd_x = _ifft_squaring_map_x(coeffs_odd, next_x_domain)\n",
    "    # Reconstruct left and right halves\n",
    "    evaluations_left = [f_even_x[i] + (x_factors[i] * f_odd_x[i]) for i in range(half)]\n",
    "    evaluations_right = [f_even_x[i] - (x_factors[i] * f_odd_x[i]) for i in range(half)]\n",
    "    evaluations_right.reverse()\n",
    "    return evaluations_left + evaluations_right\n",
    "\n",
    "Q = CirclePoint(FieldElement(24), FieldElement(18))\n",
    "Domain = generate_standard_position_coset(Q, G3)\n",
    "evals = [1, 2, 4, 8, 16, 1, 2, 4]\n",
    "print(\"initial evaluations:\", evals)\n",
    "coefs = circle_fft(evals, Domain)\n",
    "print(\"FFT coefficients:\", coefs)\n",
    "final_evals = circle_ifft(coefs, Domain)\n",
    "print(\"IFFT reconstructed evaluations:\", final_evals)\n",
    "print(\"Matches original:\", final_evals == evals)"
   ]
  },
  {
   "cell_type": "markdown",
   "metadata": {},
   "source": [
    "# Verify FFT with basis functions"
   ]
  },
  {
   "cell_type": "code",
   "execution_count": 12,
   "metadata": {},
   "outputs": [
    {
     "name": "stdout",
     "output_type": "stream",
     "text": [
      "Re-evaluated with basis: [1, 2, 4, 8, 16, 1, 2, 4]\n",
      "Matches original: True\n"
     ]
    }
   ],
   "source": [
    "def check_with_basis(coefs, circle_domain):\n",
    "    \"\"\"Re-evaluate coefficients using basis functions.\"\"\"\n",
    "    arrC = [FieldElement(c) for c in coefs]\n",
    "    out = []\n",
    "    for pt in circle_domain:\n",
    "        acc = FieldElement(0)\n",
    "        for i, cval in enumerate(arrC):\n",
    "            acc += cval * basis_func(pt, i)\n",
    "        out.append(acc.value)\n",
    "    return out\n",
    "\n",
    "def basis_func(pt, idx):\n",
    "    \"\"\"Compute basis function for index idx at point.\"\"\"\n",
    "    b = FieldElement(1)\n",
    "    bitpos = 0\n",
    "    tmp = idx\n",
    "    while tmp > 0:\n",
    "        if bitpos == 0:\n",
    "            if tmp & 1:\n",
    "                b = b * pt.y\n",
    "        else:\n",
    "            if tmp & 1:\n",
    "                b = b * repeated_vn(pt.x, bitpos)\n",
    "        tmp >>= 1\n",
    "        bitpos += 1\n",
    "    return b\n",
    "\n",
    "def repeated_vn(x, k):\n",
    "    \"\"\"Repeatedly apply v_n(x) = 2*x^2 - 1, k-1 times.\"\"\"\n",
    "    tmp = x\n",
    "    for _ in range(k - 1):\n",
    "        tmp = tmp.square().double() - FieldElement.one()\n",
    "    return tmp\n",
    "\n",
    "reeval = check_with_basis(coefs, Domain)\n",
    "print(\"Re-evaluated with basis:\", reeval)\n",
    "print(\"Matches original:\", reeval == evals)"
   ]
  }
 ],
 "metadata": {
  "kernelspec": {
   "display_name": "Python 3.11.6 (pyenv)",
   "language": "python",
   "name": "pyenv_3.11.6"
  },
  "language_info": {
   "codemirror_mode": {
    "name": "ipython",
    "version": 3
   },
   "file_extension": ".py",
   "mimetype": "text/x-python",
   "name": "python",
   "nbconvert_exporter": "python",
   "pygments_lexer": "ipython3",
   "version": "3.11.6"
  }
 },
 "nbformat": 4,
 "nbformat_minor": 2
}
